{
  "nbformat": 4,
  "nbformat_minor": 0,
  "metadata": {
    "colab": {
      "name": "Untitled3.ipynb",
      "provenance": [],
      "collapsed_sections": [],
      "authorship_tag": "ABX9TyPh5O4EzgxgRzLLXpMIxl6k",
      "include_colab_link": true
    },
    "kernelspec": {
      "name": "python3",
      "display_name": "Python 3"
    }
  },
  "cells": [
    {
      "cell_type": "markdown",
      "metadata": {
        "id": "view-in-github",
        "colab_type": "text"
      },
      "source": [
        "<a href=\"https://colab.research.google.com/github/NaingKo9902/project1/blob/master/lab2.ipynb\" target=\"_parent\"><img src=\"https://colab.research.google.com/assets/colab-badge.svg\" alt=\"Open In Colab\"/></a>"
      ]
    },
    {
      "cell_type": "code",
      "metadata": {
        "id": "hDDxHxlCuNjd",
        "colab_type": "code",
        "colab": {}
      },
      "source": [
        "import pandas as pd"
      ],
      "execution_count": 0,
      "outputs": []
    },
    {
      "cell_type": "code",
      "metadata": {
        "id": "2kDcbGKzxCgd",
        "colab_type": "code",
        "colab": {}
      },
      "source": [
        "pd.set_option(\"display.width\", 70)"
      ],
      "execution_count": 0,
      "outputs": []
    },
    {
      "cell_type": "code",
      "metadata": {
        "id": "vxSobjS9xJGN",
        "colab_type": "code",
        "colab": {
          "base_uri": "https://localhost:8080/",
          "height": 395
        },
        "outputId": "8fd9e573-3547-4011-eeb5-807420d63480"
      },
      "source": [
        "data = pd.read_csv('adult.csv')\n",
        "data.head()"
      ],
      "execution_count": 3,
      "outputs": [
        {
          "output_type": "execute_result",
          "data": {
            "text/html": [
              "<div>\n",
              "<style scoped>\n",
              "    .dataframe tbody tr th:only-of-type {\n",
              "        vertical-align: middle;\n",
              "    }\n",
              "\n",
              "    .dataframe tbody tr th {\n",
              "        vertical-align: top;\n",
              "    }\n",
              "\n",
              "    .dataframe thead th {\n",
              "        text-align: right;\n",
              "    }\n",
              "</style>\n",
              "<table border=\"1\" class=\"dataframe\">\n",
              "  <thead>\n",
              "    <tr style=\"text-align: right;\">\n",
              "      <th></th>\n",
              "      <th>age</th>\n",
              "      <th>workclass</th>\n",
              "      <th>fnlwgt</th>\n",
              "      <th>education</th>\n",
              "      <th>educational-num</th>\n",
              "      <th>marital-status</th>\n",
              "      <th>occupation</th>\n",
              "      <th>relationship</th>\n",
              "      <th>race</th>\n",
              "      <th>gender</th>\n",
              "      <th>capital-gain</th>\n",
              "      <th>capital-loss</th>\n",
              "      <th>hours-per-week</th>\n",
              "      <th>native-country</th>\n",
              "      <th>income</th>\n",
              "    </tr>\n",
              "  </thead>\n",
              "  <tbody>\n",
              "    <tr>\n",
              "      <th>0</th>\n",
              "      <td>25</td>\n",
              "      <td>Private</td>\n",
              "      <td>226802</td>\n",
              "      <td>11th</td>\n",
              "      <td>7</td>\n",
              "      <td>Never-married</td>\n",
              "      <td>Machine-op-inspct</td>\n",
              "      <td>Own-child</td>\n",
              "      <td>Black</td>\n",
              "      <td>Male</td>\n",
              "      <td>0</td>\n",
              "      <td>0</td>\n",
              "      <td>40</td>\n",
              "      <td>United-States</td>\n",
              "      <td>&lt;=50K</td>\n",
              "    </tr>\n",
              "    <tr>\n",
              "      <th>1</th>\n",
              "      <td>38</td>\n",
              "      <td>Private</td>\n",
              "      <td>89814</td>\n",
              "      <td>HS-grad</td>\n",
              "      <td>9</td>\n",
              "      <td>Married-civ-spouse</td>\n",
              "      <td>Farming-fishing</td>\n",
              "      <td>Husband</td>\n",
              "      <td>White</td>\n",
              "      <td>Male</td>\n",
              "      <td>0</td>\n",
              "      <td>0</td>\n",
              "      <td>50</td>\n",
              "      <td>United-States</td>\n",
              "      <td>&lt;=50K</td>\n",
              "    </tr>\n",
              "    <tr>\n",
              "      <th>2</th>\n",
              "      <td>28</td>\n",
              "      <td>Local-gov</td>\n",
              "      <td>336951</td>\n",
              "      <td>Assoc-acdm</td>\n",
              "      <td>12</td>\n",
              "      <td>Married-civ-spouse</td>\n",
              "      <td>Protective-serv</td>\n",
              "      <td>Husband</td>\n",
              "      <td>White</td>\n",
              "      <td>Male</td>\n",
              "      <td>0</td>\n",
              "      <td>0</td>\n",
              "      <td>40</td>\n",
              "      <td>United-States</td>\n",
              "      <td>&gt;50K</td>\n",
              "    </tr>\n",
              "    <tr>\n",
              "      <th>3</th>\n",
              "      <td>44</td>\n",
              "      <td>Private</td>\n",
              "      <td>160323</td>\n",
              "      <td>Some-college</td>\n",
              "      <td>10</td>\n",
              "      <td>Married-civ-spouse</td>\n",
              "      <td>Machine-op-inspct</td>\n",
              "      <td>Husband</td>\n",
              "      <td>Black</td>\n",
              "      <td>Male</td>\n",
              "      <td>7688</td>\n",
              "      <td>0</td>\n",
              "      <td>40</td>\n",
              "      <td>United-States</td>\n",
              "      <td>&gt;50K</td>\n",
              "    </tr>\n",
              "    <tr>\n",
              "      <th>4</th>\n",
              "      <td>18</td>\n",
              "      <td>?</td>\n",
              "      <td>103497</td>\n",
              "      <td>Some-college</td>\n",
              "      <td>10</td>\n",
              "      <td>Never-married</td>\n",
              "      <td>?</td>\n",
              "      <td>Own-child</td>\n",
              "      <td>White</td>\n",
              "      <td>Female</td>\n",
              "      <td>0</td>\n",
              "      <td>0</td>\n",
              "      <td>30</td>\n",
              "      <td>United-States</td>\n",
              "      <td>&lt;=50K</td>\n",
              "    </tr>\n",
              "  </tbody>\n",
              "</table>\n",
              "</div>"
            ],
            "text/plain": [
              "   age  workclass  fnlwgt  ... hours-per-week  native-country income\n",
              "0   25    Private  226802  ...             40   United-States  <=50K\n",
              "1   38    Private   89814  ...             50   United-States  <=50K\n",
              "2   28  Local-gov  336951  ...             40   United-States   >50K\n",
              "3   44    Private  160323  ...             40   United-States   >50K\n",
              "4   18          ?  103497  ...             30   United-States  <=50K\n",
              "\n",
              "[5 rows x 15 columns]"
            ]
          },
          "metadata": {
            "tags": []
          },
          "execution_count": 3
        }
      ]
    },
    {
      "cell_type": "code",
      "metadata": {
        "id": "YIjKr3xSxRiH",
        "colab_type": "code",
        "colab": {
          "base_uri": "https://localhost:8080/",
          "height": 69
        },
        "outputId": "1e66cc6b-715e-472b-e0c7-bb78d6476cb7"
      },
      "source": [
        "data[\"gender\"].value_counts()"
      ],
      "execution_count": 4,
      "outputs": [
        {
          "output_type": "execute_result",
          "data": {
            "text/plain": [
              "Male      32650\n",
              "Female    16192\n",
              "Name: gender, dtype: int64"
            ]
          },
          "metadata": {
            "tags": []
          },
          "execution_count": 4
        }
      ]
    },
    {
      "cell_type": "code",
      "metadata": {
        "id": "Yp0hQeArxXFn",
        "colab_type": "code",
        "colab": {
          "base_uri": "https://localhost:8080/",
          "height": 35
        },
        "outputId": "c595b882-7750-436a-d1da-401a6fde7bb3"
      },
      "source": [
        "data[data[\"gender\"] == \"Female\"][\"age\"].mean()"
      ],
      "execution_count": 5,
      "outputs": [
        {
          "output_type": "execute_result",
          "data": {
            "text/plain": [
              "36.92798913043478"
            ]
          },
          "metadata": {
            "tags": []
          },
          "execution_count": 5
        }
      ]
    },
    {
      "cell_type": "code",
      "metadata": {
        "id": "X-E-KoVmxeoV",
        "colab_type": "code",
        "colab": {
          "base_uri": "https://localhost:8080/",
          "height": 35
        },
        "outputId": "45810dbd-4ed9-4c9a-a97b-6dfc02f7a85b"
      },
      "source": [
        "print(\"{0:%}\".format(data[data[\"native-country\"] == \"Germany\"]\n",
        ".shape[0] / data.shape[0]))"
      ],
      "execution_count": 6,
      "outputs": [
        {
          "output_type": "stream",
          "text": [
            "0.421768%\n"
          ],
          "name": "stdout"
        }
      ]
    },
    {
      "cell_type": "code",
      "metadata": {
        "id": "MDTId-C8x4_l",
        "colab_type": "code",
        "colab": {
          "base_uri": "https://localhost:8080/",
          "height": 52
        },
        "outputId": "209314ae-0d56-4bc3-f8d5-40e822cbf443"
      },
      "source": [
        "ages1 = data[data[\"income\"] == \"<=50K\"][\"age\"]\n",
        "ages2 = data[data[\"income\"] == \">50K\"][\"age\"]\n",
        "print(\"<=50K: = {0} ± {1} years\".format(ages1.mean(), ages1.std()))\n",
        "print(\" >50K: = {0} ± {1} years\".format(ages2.mean(), ages2.std()))"
      ],
      "execution_count": 9,
      "outputs": [
        {
          "output_type": "stream",
          "text": [
            "<=50K: = 36.87218409366169 ± 14.104118026101577 years\n",
            " >50K: = 44.275177547702576 ± 10.558983370287825 years\n"
          ],
          "name": "stdout"
        }
      ]
    },
    {
      "cell_type": "code",
      "metadata": {
        "id": "IRK1SkfDyWmn",
        "colab_type": "code",
        "colab": {
          "base_uri": "https://localhost:8080/",
          "height": 35
        },
        "outputId": "bfcce25a-7ef2-4e7a-e516-bbd7e4967d84"
      },
      "source": [
        "high_educations = set([\"Bachelors\", \"Prof-school\", \"Assoc-acdm\",\n",
        "                      \"Assoc-voc\", \"Masters\", \"Doctorate\"])\n",
        "def high_educated(e):\n",
        "    return e in high_educations\n",
        "data[data[\"income\"] == \">50K\"][\"education\"].map(high_educated).all()"
      ],
      "execution_count": 10,
      "outputs": [
        {
          "output_type": "execute_result",
          "data": {
            "text/plain": [
              "False"
            ]
          },
          "metadata": {
            "tags": []
          },
          "execution_count": 10
        }
      ]
    },
    {
      "cell_type": "code",
      "metadata": {
        "id": "y7n_vwViygRS",
        "colab_type": "code",
        "colab": {
          "base_uri": "https://localhost:8080/",
          "height": 386
        },
        "outputId": "c7c5c5d6-bebc-4467-b8d8-facfaef76b32"
      },
      "source": [
        "data.groupby([\"race\", \"gender\"])[\"age\"].describe()"
      ],
      "execution_count": 11,
      "outputs": [
        {
          "output_type": "execute_result",
          "data": {
            "text/html": [
              "<div>\n",
              "<style scoped>\n",
              "    .dataframe tbody tr th:only-of-type {\n",
              "        vertical-align: middle;\n",
              "    }\n",
              "\n",
              "    .dataframe tbody tr th {\n",
              "        vertical-align: top;\n",
              "    }\n",
              "\n",
              "    .dataframe thead th {\n",
              "        text-align: right;\n",
              "    }\n",
              "</style>\n",
              "<table border=\"1\" class=\"dataframe\">\n",
              "  <thead>\n",
              "    <tr style=\"text-align: right;\">\n",
              "      <th></th>\n",
              "      <th></th>\n",
              "      <th>count</th>\n",
              "      <th>mean</th>\n",
              "      <th>std</th>\n",
              "      <th>min</th>\n",
              "      <th>25%</th>\n",
              "      <th>50%</th>\n",
              "      <th>75%</th>\n",
              "      <th>max</th>\n",
              "    </tr>\n",
              "    <tr>\n",
              "      <th>race</th>\n",
              "      <th>gender</th>\n",
              "      <th></th>\n",
              "      <th></th>\n",
              "      <th></th>\n",
              "      <th></th>\n",
              "      <th></th>\n",
              "      <th></th>\n",
              "      <th></th>\n",
              "      <th></th>\n",
              "    </tr>\n",
              "  </thead>\n",
              "  <tbody>\n",
              "    <tr>\n",
              "      <th rowspan=\"2\" valign=\"top\">Amer-Indian-Eskimo</th>\n",
              "      <th>Female</th>\n",
              "      <td>185.0</td>\n",
              "      <td>36.237838</td>\n",
              "      <td>12.840056</td>\n",
              "      <td>17.0</td>\n",
              "      <td>26.0</td>\n",
              "      <td>35.0</td>\n",
              "      <td>46.0</td>\n",
              "      <td>80.0</td>\n",
              "    </tr>\n",
              "    <tr>\n",
              "      <th>Male</th>\n",
              "      <td>285.0</td>\n",
              "      <td>36.989474</td>\n",
              "      <td>11.703943</td>\n",
              "      <td>17.0</td>\n",
              "      <td>29.0</td>\n",
              "      <td>35.0</td>\n",
              "      <td>44.0</td>\n",
              "      <td>82.0</td>\n",
              "    </tr>\n",
              "    <tr>\n",
              "      <th rowspan=\"2\" valign=\"top\">Asian-Pac-Islander</th>\n",
              "      <th>Female</th>\n",
              "      <td>517.0</td>\n",
              "      <td>35.657640</td>\n",
              "      <td>12.637799</td>\n",
              "      <td>17.0</td>\n",
              "      <td>25.0</td>\n",
              "      <td>34.0</td>\n",
              "      <td>44.0</td>\n",
              "      <td>81.0</td>\n",
              "    </tr>\n",
              "    <tr>\n",
              "      <th>Male</th>\n",
              "      <td>1002.0</td>\n",
              "      <td>38.994012</td>\n",
              "      <td>12.824878</td>\n",
              "      <td>18.0</td>\n",
              "      <td>29.0</td>\n",
              "      <td>37.0</td>\n",
              "      <td>46.0</td>\n",
              "      <td>90.0</td>\n",
              "    </tr>\n",
              "    <tr>\n",
              "      <th rowspan=\"2\" valign=\"top\">Black</th>\n",
              "      <th>Female</th>\n",
              "      <td>2308.0</td>\n",
              "      <td>37.905979</td>\n",
              "      <td>12.736001</td>\n",
              "      <td>17.0</td>\n",
              "      <td>28.0</td>\n",
              "      <td>36.0</td>\n",
              "      <td>46.0</td>\n",
              "      <td>90.0</td>\n",
              "    </tr>\n",
              "    <tr>\n",
              "      <th>Male</th>\n",
              "      <td>2377.0</td>\n",
              "      <td>37.922592</td>\n",
              "      <td>13.036981</td>\n",
              "      <td>17.0</td>\n",
              "      <td>28.0</td>\n",
              "      <td>36.0</td>\n",
              "      <td>46.0</td>\n",
              "      <td>90.0</td>\n",
              "    </tr>\n",
              "    <tr>\n",
              "      <th rowspan=\"2\" valign=\"top\">Other</th>\n",
              "      <th>Female</th>\n",
              "      <td>155.0</td>\n",
              "      <td>31.212903</td>\n",
              "      <td>11.233061</td>\n",
              "      <td>17.0</td>\n",
              "      <td>23.0</td>\n",
              "      <td>29.0</td>\n",
              "      <td>37.0</td>\n",
              "      <td>74.0</td>\n",
              "    </tr>\n",
              "    <tr>\n",
              "      <th>Male</th>\n",
              "      <td>251.0</td>\n",
              "      <td>35.167331</td>\n",
              "      <td>11.808297</td>\n",
              "      <td>17.0</td>\n",
              "      <td>26.0</td>\n",
              "      <td>32.0</td>\n",
              "      <td>42.5</td>\n",
              "      <td>77.0</td>\n",
              "    </tr>\n",
              "    <tr>\n",
              "      <th rowspan=\"2\" valign=\"top\">White</th>\n",
              "      <th>Female</th>\n",
              "      <td>13027.0</td>\n",
              "      <td>36.882935</td>\n",
              "      <td>14.454178</td>\n",
              "      <td>17.0</td>\n",
              "      <td>25.0</td>\n",
              "      <td>35.0</td>\n",
              "      <td>47.0</td>\n",
              "      <td>90.0</td>\n",
              "    </tr>\n",
              "    <tr>\n",
              "      <th>Male</th>\n",
              "      <td>28735.0</td>\n",
              "      <td>39.704507</td>\n",
              "      <td>13.475250</td>\n",
              "      <td>17.0</td>\n",
              "      <td>29.0</td>\n",
              "      <td>38.0</td>\n",
              "      <td>49.0</td>\n",
              "      <td>90.0</td>\n",
              "    </tr>\n",
              "  </tbody>\n",
              "</table>\n",
              "</div>"
            ],
            "text/plain": [
              "                             count       mean        std  ...   50%   75%   max\n",
              "race               gender                                 ...                  \n",
              "Amer-Indian-Eskimo Female    185.0  36.237838  12.840056  ...  35.0  46.0  80.0\n",
              "                   Male      285.0  36.989474  11.703943  ...  35.0  44.0  82.0\n",
              "Asian-Pac-Islander Female    517.0  35.657640  12.637799  ...  34.0  44.0  81.0\n",
              "                   Male     1002.0  38.994012  12.824878  ...  37.0  46.0  90.0\n",
              "Black              Female   2308.0  37.905979  12.736001  ...  36.0  46.0  90.0\n",
              "                   Male     2377.0  37.922592  13.036981  ...  36.0  46.0  90.0\n",
              "Other              Female    155.0  31.212903  11.233061  ...  29.0  37.0  74.0\n",
              "                   Male      251.0  35.167331  11.808297  ...  32.0  42.5  77.0\n",
              "White              Female  13027.0  36.882935  14.454178  ...  35.0  47.0  90.0\n",
              "                   Male    28735.0  39.704507  13.475250  ...  38.0  49.0  90.0\n",
              "\n",
              "[10 rows x 8 columns]"
            ]
          },
          "metadata": {
            "tags": []
          },
          "execution_count": 11
        }
      ]
    },
    {
      "cell_type": "code",
      "metadata": {
        "id": "-AsD1nxdypzJ",
        "colab_type": "code",
        "colab": {
          "base_uri": "https://localhost:8080/",
          "height": 35
        },
        "outputId": "b42f9d54-6e11-4641-995d-540e7dbf17ec"
      },
      "source": [
        "data[(data[\"race\"] == \"Amer-Indian-Eskimo\")\n",
        "& (data[\"gender\"] == \"Male\")][\"age\"].max()"
      ],
      "execution_count": 12,
      "outputs": [
        {
          "output_type": "execute_result",
          "data": {
            "text/plain": [
              "82"
            ]
          },
          "metadata": {
            "tags": []
          },
          "execution_count": 12
        }
      ]
    },
    {
      "cell_type": "code",
      "metadata": {
        "id": "i1IlE19EysKK",
        "colab_type": "code",
        "colab": {
          "base_uri": "https://localhost:8080/",
          "height": 69
        },
        "outputId": "2a33d7a8-3a54-4d56-bd5f-90bac6fd5d98"
      },
      "source": [
        "def is_married(m):\n",
        "    return m.startswith(\"Married\")\n",
        "data[\"married\"] = data[\"marital-status\"].map(is_married)\n",
        "(data[(data[\"gender\"] == \"Male\") & (data[\"income\"] == \">50K\")]\n",
        "    [\"married\"].value_counts())"
      ],
      "execution_count": 13,
      "outputs": [
        {
          "output_type": "execute_result",
          "data": {
            "text/plain": [
              "True     8917\n",
              "False    1001\n",
              "Name: married, dtype: int64"
            ]
          },
          "metadata": {
            "tags": []
          },
          "execution_count": 13
        }
      ]
    },
    {
      "cell_type": "code",
      "metadata": {
        "id": "-yxA-rmDy4-z",
        "colab_type": "code",
        "colab": {
          "base_uri": "https://localhost:8080/",
          "height": 69
        },
        "outputId": "82c9a18f-174b-45da-ccba-e6caba392398"
      },
      "source": [
        "m = data[\"hours-per-week\"].max()\n",
        "print(\"Maximum is {} hours/week.\".format(m))\n",
        "people = data[data[\"hours-per-week\"] == m]\n",
        "c = people.shape[0]\n",
        "print(\"{} people work this time at week.\".format(c))\n",
        "s = people[people[\"income\"] == \">50K\"].shape[0]\n",
        "print(\"{0:%} get >50K income.\".format(s / c))"
      ],
      "execution_count": 14,
      "outputs": [
        {
          "output_type": "stream",
          "text": [
            "Maximum is 99 hours/week.\n",
            "137 people work this time at week.\n",
            "29.927007% get >50K income.\n"
          ],
          "name": "stdout"
        }
      ]
    },
    {
      "cell_type": "code",
      "metadata": {
        "id": "H71oJ-HM3IQh",
        "colab_type": "code",
        "colab": {
          "base_uri": "https://localhost:8080/",
          "height": 1000
        },
        "outputId": "390abaa8-36fe-40e4-dc0f-1ff76190cdca"
      },
      "source": [
        "p = pd.crosstab(data[\"native-country\"], data[\"income\"],\n",
        "values=data[\"hours-per-week\"], aggfunc=\"mean\")\n",
        "p"
      ],
      "execution_count": 47,
      "outputs": [
        {
          "output_type": "execute_result",
          "data": {
            "text/html": [
              "<div>\n",
              "<style scoped>\n",
              "    .dataframe tbody tr th:only-of-type {\n",
              "        vertical-align: middle;\n",
              "    }\n",
              "\n",
              "    .dataframe tbody tr th {\n",
              "        vertical-align: top;\n",
              "    }\n",
              "\n",
              "    .dataframe thead th {\n",
              "        text-align: right;\n",
              "    }\n",
              "</style>\n",
              "<table border=\"1\" class=\"dataframe\">\n",
              "  <thead>\n",
              "    <tr style=\"text-align: right;\">\n",
              "      <th>income</th>\n",
              "      <th>&lt;=50K</th>\n",
              "      <th>&gt;50K</th>\n",
              "    </tr>\n",
              "    <tr>\n",
              "      <th>native-country</th>\n",
              "      <th></th>\n",
              "      <th></th>\n",
              "    </tr>\n",
              "  </thead>\n",
              "  <tbody>\n",
              "    <tr>\n",
              "      <th>?</th>\n",
              "      <td>39.552590</td>\n",
              "      <td>45.318182</td>\n",
              "    </tr>\n",
              "    <tr>\n",
              "      <th>Cambodia</th>\n",
              "      <td>41.157895</td>\n",
              "      <td>43.888889</td>\n",
              "    </tr>\n",
              "    <tr>\n",
              "      <th>Canada</th>\n",
              "      <td>37.378151</td>\n",
              "      <td>46.126984</td>\n",
              "    </tr>\n",
              "    <tr>\n",
              "      <th>China</th>\n",
              "      <td>36.686047</td>\n",
              "      <td>42.027778</td>\n",
              "    </tr>\n",
              "    <tr>\n",
              "      <th>Columbia</th>\n",
              "      <td>39.123457</td>\n",
              "      <td>56.250000</td>\n",
              "    </tr>\n",
              "    <tr>\n",
              "      <th>Cuba</th>\n",
              "      <td>39.201923</td>\n",
              "      <td>42.852941</td>\n",
              "    </tr>\n",
              "    <tr>\n",
              "      <th>Dominican-Republic</th>\n",
              "      <td>41.561224</td>\n",
              "      <td>42.800000</td>\n",
              "    </tr>\n",
              "    <tr>\n",
              "      <th>Ecuador</th>\n",
              "      <td>37.948718</td>\n",
              "      <td>47.833333</td>\n",
              "    </tr>\n",
              "    <tr>\n",
              "      <th>El-Salvador</th>\n",
              "      <td>35.819444</td>\n",
              "      <td>43.454545</td>\n",
              "    </tr>\n",
              "    <tr>\n",
              "      <th>England</th>\n",
              "      <td>39.375000</td>\n",
              "      <td>46.297872</td>\n",
              "    </tr>\n",
              "    <tr>\n",
              "      <th>France</th>\n",
              "      <td>40.090909</td>\n",
              "      <td>46.500000</td>\n",
              "    </tr>\n",
              "    <tr>\n",
              "      <th>Germany</th>\n",
              "      <td>38.898649</td>\n",
              "      <td>45.706897</td>\n",
              "    </tr>\n",
              "    <tr>\n",
              "      <th>Greece</th>\n",
              "      <td>41.870968</td>\n",
              "      <td>55.555556</td>\n",
              "    </tr>\n",
              "    <tr>\n",
              "      <th>Guatemala</th>\n",
              "      <td>38.788235</td>\n",
              "      <td>36.666667</td>\n",
              "    </tr>\n",
              "    <tr>\n",
              "      <th>Haiti</th>\n",
              "      <td>36.409091</td>\n",
              "      <td>40.666667</td>\n",
              "    </tr>\n",
              "    <tr>\n",
              "      <th>Holand-Netherlands</th>\n",
              "      <td>40.000000</td>\n",
              "      <td>NaN</td>\n",
              "    </tr>\n",
              "    <tr>\n",
              "      <th>Honduras</th>\n",
              "      <td>34.055556</td>\n",
              "      <td>50.000000</td>\n",
              "    </tr>\n",
              "    <tr>\n",
              "      <th>Hong</th>\n",
              "      <td>39.000000</td>\n",
              "      <td>43.750000</td>\n",
              "    </tr>\n",
              "    <tr>\n",
              "      <th>Hungary</th>\n",
              "      <td>34.076923</td>\n",
              "      <td>46.333333</td>\n",
              "    </tr>\n",
              "    <tr>\n",
              "      <th>India</th>\n",
              "      <td>38.044944</td>\n",
              "      <td>46.274194</td>\n",
              "    </tr>\n",
              "    <tr>\n",
              "      <th>Iran</th>\n",
              "      <td>39.972973</td>\n",
              "      <td>47.954545</td>\n",
              "    </tr>\n",
              "    <tr>\n",
              "      <th>Ireland</th>\n",
              "      <td>41.269231</td>\n",
              "      <td>45.181818</td>\n",
              "    </tr>\n",
              "    <tr>\n",
              "      <th>Italy</th>\n",
              "      <td>38.690141</td>\n",
              "      <td>45.647059</td>\n",
              "    </tr>\n",
              "    <tr>\n",
              "      <th>Jamaica</th>\n",
              "      <td>38.626374</td>\n",
              "      <td>42.400000</td>\n",
              "    </tr>\n",
              "    <tr>\n",
              "      <th>Japan</th>\n",
              "      <td>39.733333</td>\n",
              "      <td>47.062500</td>\n",
              "    </tr>\n",
              "    <tr>\n",
              "      <th>Laos</th>\n",
              "      <td>39.333333</td>\n",
              "      <td>40.000000</td>\n",
              "    </tr>\n",
              "    <tr>\n",
              "      <th>Mexico</th>\n",
              "      <td>39.931416</td>\n",
              "      <td>45.638298</td>\n",
              "    </tr>\n",
              "    <tr>\n",
              "      <th>Nicaragua</th>\n",
              "      <td>36.847826</td>\n",
              "      <td>38.333333</td>\n",
              "    </tr>\n",
              "    <tr>\n",
              "      <th>Outlying-US(Guam-USVI-etc)</th>\n",
              "      <td>41.409091</td>\n",
              "      <td>40.000000</td>\n",
              "    </tr>\n",
              "    <tr>\n",
              "      <th>Peru</th>\n",
              "      <td>36.214286</td>\n",
              "      <td>40.000000</td>\n",
              "    </tr>\n",
              "    <tr>\n",
              "      <th>Philippines</th>\n",
              "      <td>38.014286</td>\n",
              "      <td>43.588235</td>\n",
              "    </tr>\n",
              "    <tr>\n",
              "      <th>Poland</th>\n",
              "      <td>37.228571</td>\n",
              "      <td>39.588235</td>\n",
              "    </tr>\n",
              "    <tr>\n",
              "      <th>Portugal</th>\n",
              "      <td>41.254545</td>\n",
              "      <td>46.750000</td>\n",
              "    </tr>\n",
              "    <tr>\n",
              "      <th>Puerto-Rico</th>\n",
              "      <td>38.908537</td>\n",
              "      <td>39.900000</td>\n",
              "    </tr>\n",
              "    <tr>\n",
              "      <th>Scotland</th>\n",
              "      <td>40.833333</td>\n",
              "      <td>46.666667</td>\n",
              "    </tr>\n",
              "    <tr>\n",
              "      <th>South</th>\n",
              "      <td>41.052632</td>\n",
              "      <td>51.400000</td>\n",
              "    </tr>\n",
              "    <tr>\n",
              "      <th>Taiwan</th>\n",
              "      <td>35.307692</td>\n",
              "      <td>45.538462</td>\n",
              "    </tr>\n",
              "    <tr>\n",
              "      <th>Thailand</th>\n",
              "      <td>43.040000</td>\n",
              "      <td>53.000000</td>\n",
              "    </tr>\n",
              "    <tr>\n",
              "      <th>Trinadad&amp;Tobago</th>\n",
              "      <td>38.800000</td>\n",
              "      <td>40.000000</td>\n",
              "    </tr>\n",
              "    <tr>\n",
              "      <th>United-States</th>\n",
              "      <td>38.817189</td>\n",
              "      <td>45.471853</td>\n",
              "    </tr>\n",
              "    <tr>\n",
              "      <th>Vietnam</th>\n",
              "      <td>37.848101</td>\n",
              "      <td>39.428571</td>\n",
              "    </tr>\n",
              "    <tr>\n",
              "      <th>Yugoslavia</th>\n",
              "      <td>38.533333</td>\n",
              "      <td>43.375000</td>\n",
              "    </tr>\n",
              "  </tbody>\n",
              "</table>\n",
              "</div>"
            ],
            "text/plain": [
              "income                          <=50K       >50K\n",
              "native-country                                  \n",
              "?                           39.552590  45.318182\n",
              "Cambodia                    41.157895  43.888889\n",
              "Canada                      37.378151  46.126984\n",
              "China                       36.686047  42.027778\n",
              "Columbia                    39.123457  56.250000\n",
              "Cuba                        39.201923  42.852941\n",
              "Dominican-Republic          41.561224  42.800000\n",
              "Ecuador                     37.948718  47.833333\n",
              "El-Salvador                 35.819444  43.454545\n",
              "England                     39.375000  46.297872\n",
              "France                      40.090909  46.500000\n",
              "Germany                     38.898649  45.706897\n",
              "Greece                      41.870968  55.555556\n",
              "Guatemala                   38.788235  36.666667\n",
              "Haiti                       36.409091  40.666667\n",
              "Holand-Netherlands          40.000000        NaN\n",
              "Honduras                    34.055556  50.000000\n",
              "Hong                        39.000000  43.750000\n",
              "Hungary                     34.076923  46.333333\n",
              "India                       38.044944  46.274194\n",
              "Iran                        39.972973  47.954545\n",
              "Ireland                     41.269231  45.181818\n",
              "Italy                       38.690141  45.647059\n",
              "Jamaica                     38.626374  42.400000\n",
              "Japan                       39.733333  47.062500\n",
              "Laos                        39.333333  40.000000\n",
              "Mexico                      39.931416  45.638298\n",
              "Nicaragua                   36.847826  38.333333\n",
              "Outlying-US(Guam-USVI-etc)  41.409091  40.000000\n",
              "Peru                        36.214286  40.000000\n",
              "Philippines                 38.014286  43.588235\n",
              "Poland                      37.228571  39.588235\n",
              "Portugal                    41.254545  46.750000\n",
              "Puerto-Rico                 38.908537  39.900000\n",
              "Scotland                    40.833333  46.666667\n",
              "South                       41.052632  51.400000\n",
              "Taiwan                      35.307692  45.538462\n",
              "Thailand                    43.040000  53.000000\n",
              "Trinadad&Tobago             38.800000  40.000000\n",
              "United-States               38.817189  45.471853\n",
              "Vietnam                     37.848101  39.428571\n",
              "Yugoslavia                  38.533333  43.375000"
            ]
          },
          "metadata": {
            "tags": []
          },
          "execution_count": 47
        }
      ]
    },
    {
      "cell_type": "code",
      "metadata": {
        "id": "GvbcPIim3Wdy",
        "colab_type": "code",
        "colab": {
          "base_uri": "https://localhost:8080/",
          "height": 87
        },
        "outputId": "43a4025d-3033-47da-a3ec-886765a3d29a"
      },
      "source": [
        "p.loc[\"Japan\"]"
      ],
      "execution_count": 25,
      "outputs": [
        {
          "output_type": "execute_result",
          "data": {
            "text/plain": [
              "income\n",
              "<=50K    39.733333\n",
              ">50K     47.062500\n",
              "Name: Japan, dtype: float64"
            ]
          },
          "metadata": {
            "tags": []
          },
          "execution_count": 25
        }
      ]
    },
    {
      "cell_type": "code",
      "metadata": {
        "id": "7QBE9gGd3co5",
        "colab_type": "code",
        "colab": {
          "base_uri": "https://localhost:8080/",
          "height": 297
        },
        "outputId": "b79c4374-45bc-44ee-8ebe-61ddf0a761a6"
      },
      "source": [
        "!pip install pandasql\n",
        "from pandasql import sqldf\n",
        "import pandas as pd"
      ],
      "execution_count": 26,
      "outputs": [
        {
          "output_type": "stream",
          "text": [
            "Collecting pandasql\n",
            "  Downloading https://files.pythonhosted.org/packages/6b/c4/ee4096ffa2eeeca0c749b26f0371bd26aa5c8b611c43de99a4f86d3de0a7/pandasql-0.7.3.tar.gz\n",
            "Requirement already satisfied: numpy in /usr/local/lib/python3.6/dist-packages (from pandasql) (1.18.3)\n",
            "Requirement already satisfied: pandas in /usr/local/lib/python3.6/dist-packages (from pandasql) (1.0.3)\n",
            "Requirement already satisfied: sqlalchemy in /usr/local/lib/python3.6/dist-packages (from pandasql) (1.3.16)\n",
            "Requirement already satisfied: pytz>=2017.2 in /usr/local/lib/python3.6/dist-packages (from pandas->pandasql) (2018.9)\n",
            "Requirement already satisfied: python-dateutil>=2.6.1 in /usr/local/lib/python3.6/dist-packages (from pandas->pandasql) (2.8.1)\n",
            "Requirement already satisfied: six>=1.5 in /usr/local/lib/python3.6/dist-packages (from python-dateutil>=2.6.1->pandas->pandasql) (1.12.0)\n",
            "Building wheels for collected packages: pandasql\n",
            "  Building wheel for pandasql (setup.py) ... \u001b[?25l\u001b[?25hdone\n",
            "  Created wheel for pandasql: filename=pandasql-0.7.3-cp36-none-any.whl size=26819 sha256=dc420fa9d897016a735f34942ca2e35e1d9188a36171423d36b75b4f2362770d\n",
            "  Stored in directory: /root/.cache/pip/wheels/53/6c/18/b87a2e5fa8a82e9c026311de56210b8d1c01846e18a9607fc9\n",
            "Successfully built pandasql\n",
            "Installing collected packages: pandasql\n",
            "Successfully installed pandasql-0.7.3\n"
          ],
          "name": "stdout"
        }
      ]
    },
    {
      "cell_type": "code",
      "metadata": {
        "id": "IRZvnvsh4pyM",
        "colab_type": "code",
        "colab": {}
      },
      "source": [
        "from pandasql import sqldf\n",
        "pysqldf = lambda q: sqldf(q, globals())"
      ],
      "execution_count": 0,
      "outputs": []
    },
    {
      "cell_type": "code",
      "metadata": {
        "id": "rCtUCgNB449i",
        "colab_type": "code",
        "colab": {}
      },
      "source": [
        "wind = (pd.read_csv('wind speed.csv', header=None,\n",
        "names=[\"row\", \"UNIX\", \"date\",\n",
        "\"time\", \"speed\", \"text\"])\n",
        ".drop(\"text\", axis=1))\n",
        "temp = (pd.read_csv('temperature.csv', header=None,\n",
        "names=[\"row\", \"UNIX\", \"date\",\n",
        "\"time\", \"temperature\", \"text\"])\n",
        ".drop(\"text\", axis=1))"
      ],
      "execution_count": 0,
      "outputs": []
    },
    {
      "cell_type": "code",
      "metadata": {
        "id": "yEPalB7n5Lg8",
        "colab_type": "code",
        "colab": {
          "base_uri": "https://localhost:8080/",
          "height": 202
        },
        "outputId": "184be5f5-d4ca-4bb1-e33b-077d6d72a68d"
      },
      "source": [
        "wind.head()"
      ],
      "execution_count": 34,
      "outputs": [
        {
          "output_type": "execute_result",
          "data": {
            "text/html": [
              "<div>\n",
              "<style scoped>\n",
              "    .dataframe tbody tr th:only-of-type {\n",
              "        vertical-align: middle;\n",
              "    }\n",
              "\n",
              "    .dataframe tbody tr th {\n",
              "        vertical-align: top;\n",
              "    }\n",
              "\n",
              "    .dataframe thead th {\n",
              "        text-align: right;\n",
              "    }\n",
              "</style>\n",
              "<table border=\"1\" class=\"dataframe\">\n",
              "  <thead>\n",
              "    <tr style=\"text-align: right;\">\n",
              "      <th></th>\n",
              "      <th>row</th>\n",
              "      <th>UNIX</th>\n",
              "      <th>date</th>\n",
              "      <th>time</th>\n",
              "      <th>speed</th>\n",
              "    </tr>\n",
              "  </thead>\n",
              "  <tbody>\n",
              "    <tr>\n",
              "      <th>0</th>\n",
              "      <td>1</td>\n",
              "      <td>1475315718</td>\n",
              "      <td>2016-09-30</td>\n",
              "      <td>23:55:18</td>\n",
              "      <td>7.87</td>\n",
              "    </tr>\n",
              "    <tr>\n",
              "      <th>1</th>\n",
              "      <td>2</td>\n",
              "      <td>1475315423</td>\n",
              "      <td>2016-09-30</td>\n",
              "      <td>23:50:23</td>\n",
              "      <td>7.87</td>\n",
              "    </tr>\n",
              "    <tr>\n",
              "      <th>2</th>\n",
              "      <td>3</td>\n",
              "      <td>1475315124</td>\n",
              "      <td>2016-09-30</td>\n",
              "      <td>23:45:24</td>\n",
              "      <td>9.00</td>\n",
              "    </tr>\n",
              "    <tr>\n",
              "      <th>3</th>\n",
              "      <td>4</td>\n",
              "      <td>1475314821</td>\n",
              "      <td>2016-09-30</td>\n",
              "      <td>23:40:21</td>\n",
              "      <td>13.50</td>\n",
              "    </tr>\n",
              "    <tr>\n",
              "      <th>4</th>\n",
              "      <td>5</td>\n",
              "      <td>1475314522</td>\n",
              "      <td>2016-09-30</td>\n",
              "      <td>23:35:22</td>\n",
              "      <td>15.75</td>\n",
              "    </tr>\n",
              "  </tbody>\n",
              "</table>\n",
              "</div>"
            ],
            "text/plain": [
              "   row        UNIX        date      time  speed\n",
              "0    1  1475315718  2016-09-30  23:55:18   7.87\n",
              "1    2  1475315423  2016-09-30  23:50:23   7.87\n",
              "2    3  1475315124  2016-09-30  23:45:24   9.00\n",
              "3    4  1475314821  2016-09-30  23:40:21  13.50\n",
              "4    5  1475314522  2016-09-30  23:35:22  15.75"
            ]
          },
          "metadata": {
            "tags": []
          },
          "execution_count": 34
        }
      ]
    },
    {
      "cell_type": "code",
      "metadata": {
        "id": "m-Pgf9O55Rra",
        "colab_type": "code",
        "colab": {
          "base_uri": "https://localhost:8080/",
          "height": 121
        },
        "outputId": "140f9c9a-663c-4859-98ce-27e0c1afaee5"
      },
      "source": [
        "wind.dtypes"
      ],
      "execution_count": 35,
      "outputs": [
        {
          "output_type": "execute_result",
          "data": {
            "text/plain": [
              "row        int64\n",
              "UNIX       int64\n",
              "date      object\n",
              "time      object\n",
              "speed    float64\n",
              "dtype: object"
            ]
          },
          "metadata": {
            "tags": []
          },
          "execution_count": 35
        }
      ]
    },
    {
      "cell_type": "code",
      "metadata": {
        "id": "k5VNgeqN5VJS",
        "colab_type": "code",
        "colab": {
          "base_uri": "https://localhost:8080/",
          "height": 202
        },
        "outputId": "5f82c802-dcf1-4fac-c541-a08bb05c9159"
      },
      "source": [
        "temp.head()"
      ],
      "execution_count": 36,
      "outputs": [
        {
          "output_type": "execute_result",
          "data": {
            "text/html": [
              "<div>\n",
              "<style scoped>\n",
              "    .dataframe tbody tr th:only-of-type {\n",
              "        vertical-align: middle;\n",
              "    }\n",
              "\n",
              "    .dataframe tbody tr th {\n",
              "        vertical-align: top;\n",
              "    }\n",
              "\n",
              "    .dataframe thead th {\n",
              "        text-align: right;\n",
              "    }\n",
              "</style>\n",
              "<table border=\"1\" class=\"dataframe\">\n",
              "  <thead>\n",
              "    <tr style=\"text-align: right;\">\n",
              "      <th></th>\n",
              "      <th>row</th>\n",
              "      <th>UNIX</th>\n",
              "      <th>date</th>\n",
              "      <th>time</th>\n",
              "      <th>temperature</th>\n",
              "    </tr>\n",
              "  </thead>\n",
              "  <tbody>\n",
              "    <tr>\n",
              "      <th>0</th>\n",
              "      <td>1</td>\n",
              "      <td>1475315718</td>\n",
              "      <td>2016-09-30</td>\n",
              "      <td>23:55:18</td>\n",
              "      <td>48</td>\n",
              "    </tr>\n",
              "    <tr>\n",
              "      <th>1</th>\n",
              "      <td>2</td>\n",
              "      <td>1475315423</td>\n",
              "      <td>2016-09-30</td>\n",
              "      <td>23:50:23</td>\n",
              "      <td>48</td>\n",
              "    </tr>\n",
              "    <tr>\n",
              "      <th>2</th>\n",
              "      <td>3</td>\n",
              "      <td>1475315124</td>\n",
              "      <td>2016-09-30</td>\n",
              "      <td>23:45:24</td>\n",
              "      <td>48</td>\n",
              "    </tr>\n",
              "    <tr>\n",
              "      <th>3</th>\n",
              "      <td>4</td>\n",
              "      <td>1475314821</td>\n",
              "      <td>2016-09-30</td>\n",
              "      <td>23:40:21</td>\n",
              "      <td>48</td>\n",
              "    </tr>\n",
              "    <tr>\n",
              "      <th>4</th>\n",
              "      <td>5</td>\n",
              "      <td>1475314522</td>\n",
              "      <td>2016-09-30</td>\n",
              "      <td>23:35:22</td>\n",
              "      <td>48</td>\n",
              "    </tr>\n",
              "  </tbody>\n",
              "</table>\n",
              "</div>"
            ],
            "text/plain": [
              "   row        UNIX        date      time  temperature\n",
              "0    1  1475315718  2016-09-30  23:55:18           48\n",
              "1    2  1475315423  2016-09-30  23:50:23           48\n",
              "2    3  1475315124  2016-09-30  23:45:24           48\n",
              "3    4  1475314821  2016-09-30  23:40:21           48\n",
              "4    5  1475314522  2016-09-30  23:35:22           48"
            ]
          },
          "metadata": {
            "tags": []
          },
          "execution_count": 36
        }
      ]
    },
    {
      "cell_type": "code",
      "metadata": {
        "id": "FOZXCKtI5czp",
        "colab_type": "code",
        "colab": {
          "base_uri": "https://localhost:8080/",
          "height": 121
        },
        "outputId": "2f60f9af-383f-40fc-96ce-5090e8cef477"
      },
      "source": [
        "temp.dtypes"
      ],
      "execution_count": 37,
      "outputs": [
        {
          "output_type": "execute_result",
          "data": {
            "text/plain": [
              "row             int64\n",
              "UNIX            int64\n",
              "date           object\n",
              "time           object\n",
              "temperature     int64\n",
              "dtype: object"
            ]
          },
          "metadata": {
            "tags": []
          },
          "execution_count": 37
        }
      ]
    },
    {
      "cell_type": "code",
      "metadata": {
        "id": "dn_zbwA65iZ4",
        "colab_type": "code",
        "colab": {
          "base_uri": "https://localhost:8080/",
          "height": 202
        },
        "outputId": "6a0bc77c-5225-49bd-80af-152ef312d882"
      },
      "source": [
        "wind.merge(temp[[\"UNIX\", \"temperature\"]], on=\"UNIX\").head()"
      ],
      "execution_count": 38,
      "outputs": [
        {
          "output_type": "execute_result",
          "data": {
            "text/html": [
              "<div>\n",
              "<style scoped>\n",
              "    .dataframe tbody tr th:only-of-type {\n",
              "        vertical-align: middle;\n",
              "    }\n",
              "\n",
              "    .dataframe tbody tr th {\n",
              "        vertical-align: top;\n",
              "    }\n",
              "\n",
              "    .dataframe thead th {\n",
              "        text-align: right;\n",
              "    }\n",
              "</style>\n",
              "<table border=\"1\" class=\"dataframe\">\n",
              "  <thead>\n",
              "    <tr style=\"text-align: right;\">\n",
              "      <th></th>\n",
              "      <th>row</th>\n",
              "      <th>UNIX</th>\n",
              "      <th>date</th>\n",
              "      <th>time</th>\n",
              "      <th>speed</th>\n",
              "      <th>temperature</th>\n",
              "    </tr>\n",
              "  </thead>\n",
              "  <tbody>\n",
              "    <tr>\n",
              "      <th>0</th>\n",
              "      <td>1</td>\n",
              "      <td>1475315718</td>\n",
              "      <td>2016-09-30</td>\n",
              "      <td>23:55:18</td>\n",
              "      <td>7.87</td>\n",
              "      <td>48</td>\n",
              "    </tr>\n",
              "    <tr>\n",
              "      <th>1</th>\n",
              "      <td>2</td>\n",
              "      <td>1475315423</td>\n",
              "      <td>2016-09-30</td>\n",
              "      <td>23:50:23</td>\n",
              "      <td>7.87</td>\n",
              "      <td>48</td>\n",
              "    </tr>\n",
              "    <tr>\n",
              "      <th>2</th>\n",
              "      <td>3</td>\n",
              "      <td>1475315124</td>\n",
              "      <td>2016-09-30</td>\n",
              "      <td>23:45:24</td>\n",
              "      <td>9.00</td>\n",
              "      <td>48</td>\n",
              "    </tr>\n",
              "    <tr>\n",
              "      <th>3</th>\n",
              "      <td>4</td>\n",
              "      <td>1475314821</td>\n",
              "      <td>2016-09-30</td>\n",
              "      <td>23:40:21</td>\n",
              "      <td>13.50</td>\n",
              "      <td>48</td>\n",
              "    </tr>\n",
              "    <tr>\n",
              "      <th>4</th>\n",
              "      <td>5</td>\n",
              "      <td>1475314522</td>\n",
              "      <td>2016-09-30</td>\n",
              "      <td>23:35:22</td>\n",
              "      <td>15.75</td>\n",
              "      <td>48</td>\n",
              "    </tr>\n",
              "  </tbody>\n",
              "</table>\n",
              "</div>"
            ],
            "text/plain": [
              "   row        UNIX        date      time  speed  temperature\n",
              "0    1  1475315718  2016-09-30  23:55:18   7.87           48\n",
              "1    2  1475315423  2016-09-30  23:50:23   7.87           48\n",
              "2    3  1475315124  2016-09-30  23:45:24   9.00           48\n",
              "3    4  1475314821  2016-09-30  23:40:21  13.50           48\n",
              "4    5  1475314522  2016-09-30  23:35:22  15.75           48"
            ]
          },
          "metadata": {
            "tags": []
          },
          "execution_count": 38
        }
      ]
    },
    {
      "cell_type": "code",
      "metadata": {
        "id": "ypu8te8O5msr",
        "colab_type": "code",
        "colab": {
          "base_uri": "https://localhost:8080/",
          "height": 35
        },
        "outputId": "6729f14b-6b8f-4ad6-c0b6-2d080a31a59f"
      },
      "source": [
        "%%timeit\n",
        "wind.merge(temp[[\"UNIX\", \"temperature\"]], on=\"UNIX\")"
      ],
      "execution_count": 39,
      "outputs": [
        {
          "output_type": "stream",
          "text": [
            "100 loops, best of 3: 11.6 ms per loop\n"
          ],
          "name": "stdout"
        }
      ]
    },
    {
      "cell_type": "code",
      "metadata": {
        "id": "I-VQXEO_5vtc",
        "colab_type": "code",
        "colab": {
          "base_uri": "https://localhost:8080/",
          "height": 202
        },
        "outputId": "a1e21162-fb7c-4ff1-b35a-ce2b361f0bdf"
      },
      "source": [
        "pysqldf(\"\"\"SELECT w.row, w.UNIX, w.date, w.time,\n",
        "w.speed, t.temperature\n",
        "FROM wind AS w JOIN temp AS t\n",
        "ON w.UNIX = t.UNIX\n",
        "\"\"\").head()"
      ],
      "execution_count": 40,
      "outputs": [
        {
          "output_type": "execute_result",
          "data": {
            "text/html": [
              "<div>\n",
              "<style scoped>\n",
              "    .dataframe tbody tr th:only-of-type {\n",
              "        vertical-align: middle;\n",
              "    }\n",
              "\n",
              "    .dataframe tbody tr th {\n",
              "        vertical-align: top;\n",
              "    }\n",
              "\n",
              "    .dataframe thead th {\n",
              "        text-align: right;\n",
              "    }\n",
              "</style>\n",
              "<table border=\"1\" class=\"dataframe\">\n",
              "  <thead>\n",
              "    <tr style=\"text-align: right;\">\n",
              "      <th></th>\n",
              "      <th>row</th>\n",
              "      <th>UNIX</th>\n",
              "      <th>date</th>\n",
              "      <th>time</th>\n",
              "      <th>speed</th>\n",
              "      <th>temperature</th>\n",
              "    </tr>\n",
              "  </thead>\n",
              "  <tbody>\n",
              "    <tr>\n",
              "      <th>0</th>\n",
              "      <td>1</td>\n",
              "      <td>1475315718</td>\n",
              "      <td>2016-09-30</td>\n",
              "      <td>23:55:18</td>\n",
              "      <td>7.87</td>\n",
              "      <td>48</td>\n",
              "    </tr>\n",
              "    <tr>\n",
              "      <th>1</th>\n",
              "      <td>2</td>\n",
              "      <td>1475315423</td>\n",
              "      <td>2016-09-30</td>\n",
              "      <td>23:50:23</td>\n",
              "      <td>7.87</td>\n",
              "      <td>48</td>\n",
              "    </tr>\n",
              "    <tr>\n",
              "      <th>2</th>\n",
              "      <td>3</td>\n",
              "      <td>1475315124</td>\n",
              "      <td>2016-09-30</td>\n",
              "      <td>23:45:24</td>\n",
              "      <td>9.00</td>\n",
              "      <td>48</td>\n",
              "    </tr>\n",
              "    <tr>\n",
              "      <th>3</th>\n",
              "      <td>4</td>\n",
              "      <td>1475314821</td>\n",
              "      <td>2016-09-30</td>\n",
              "      <td>23:40:21</td>\n",
              "      <td>13.50</td>\n",
              "      <td>48</td>\n",
              "    </tr>\n",
              "    <tr>\n",
              "      <th>4</th>\n",
              "      <td>5</td>\n",
              "      <td>1475314522</td>\n",
              "      <td>2016-09-30</td>\n",
              "      <td>23:35:22</td>\n",
              "      <td>15.75</td>\n",
              "      <td>48</td>\n",
              "    </tr>\n",
              "  </tbody>\n",
              "</table>\n",
              "</div>"
            ],
            "text/plain": [
              "   row        UNIX        date      time  speed  temperature\n",
              "0    1  1475315718  2016-09-30  23:55:18   7.87           48\n",
              "1    2  1475315423  2016-09-30  23:50:23   7.87           48\n",
              "2    3  1475315124  2016-09-30  23:45:24   9.00           48\n",
              "3    4  1475314821  2016-09-30  23:40:21  13.50           48\n",
              "4    5  1475314522  2016-09-30  23:35:22  15.75           48"
            ]
          },
          "metadata": {
            "tags": []
          },
          "execution_count": 40
        }
      ]
    },
    {
      "cell_type": "code",
      "metadata": {
        "id": "1MlTXAXm51Uz",
        "colab_type": "code",
        "colab": {
          "base_uri": "https://localhost:8080/",
          "height": 35
        },
        "outputId": "c96ab13a-621a-47a5-ef98-3eeaa424544d"
      },
      "source": [
        "%%timeit\n",
        "pysqldf(\"\"\"SELECT w.row, w.UNIX, w.date, w.time,\n",
        "                  w.speed, t.temperature\n",
        "            FROM wind AS w JOIN temp AS t\n",
        "            ON w.UNIX = t.UNIX\n",
        "        \"\"\")"
      ],
      "execution_count": 41,
      "outputs": [
        {
          "output_type": "stream",
          "text": [
            "1 loop, best of 3: 500 ms per loop\n"
          ],
          "name": "stdout"
        }
      ]
    },
    {
      "cell_type": "code",
      "metadata": {
        "id": "b_n8r_cz59aB",
        "colab_type": "code",
        "colab": {
          "base_uri": "https://localhost:8080/",
          "height": 139
        },
        "outputId": "c3a4e3a7-1468-4b43-b488-63fcfa7052c5"
      },
      "source": [
        "wind.groupby(\"date\")[\"speed\"].mean().head()"
      ],
      "execution_count": 42,
      "outputs": [
        {
          "output_type": "execute_result",
          "data": {
            "text/plain": [
              "date\n",
              "2016-09-01    6.396560\n",
              "2016-09-02    5.804086\n",
              "2016-09-03    4.960248\n",
              "2016-09-04    5.184571\n",
              "2016-09-05    5.830676\n",
              "Name: speed, dtype: float64"
            ]
          },
          "metadata": {
            "tags": []
          },
          "execution_count": 42
        }
      ]
    },
    {
      "cell_type": "code",
      "metadata": {
        "id": "ggPwR4i-6Ckk",
        "colab_type": "code",
        "colab": {
          "base_uri": "https://localhost:8080/",
          "height": 35
        },
        "outputId": "ccb957ba-ecb1-481e-9565-7d457c709f60"
      },
      "source": [
        "%%timeit\n",
        "wind.groupby(\"date\")[\"speed\"].mean()"
      ],
      "execution_count": 43,
      "outputs": [
        {
          "output_type": "stream",
          "text": [
            "100 loops, best of 3: 2.65 ms per loop\n"
          ],
          "name": "stdout"
        }
      ]
    },
    {
      "cell_type": "code",
      "metadata": {
        "id": "C_UlM0Y96H19",
        "colab_type": "code",
        "colab": {
          "base_uri": "https://localhost:8080/",
          "height": 202
        },
        "outputId": "5efeaaf6-cb46-4582-90c6-7b5da5fab3fa"
      },
      "source": [
        "pysqldf(\"\"\"SELECT date, AVG(speed)\n",
        "FROM wind\n",
        "GROUP BY date\n",
        "\"\"\").head()"
      ],
      "execution_count": 44,
      "outputs": [
        {
          "output_type": "execute_result",
          "data": {
            "text/html": [
              "<div>\n",
              "<style scoped>\n",
              "    .dataframe tbody tr th:only-of-type {\n",
              "        vertical-align: middle;\n",
              "    }\n",
              "\n",
              "    .dataframe tbody tr th {\n",
              "        vertical-align: top;\n",
              "    }\n",
              "\n",
              "    .dataframe thead th {\n",
              "        text-align: right;\n",
              "    }\n",
              "</style>\n",
              "<table border=\"1\" class=\"dataframe\">\n",
              "  <thead>\n",
              "    <tr style=\"text-align: right;\">\n",
              "      <th></th>\n",
              "      <th>date</th>\n",
              "      <th>AVG(speed)</th>\n",
              "    </tr>\n",
              "  </thead>\n",
              "  <tbody>\n",
              "    <tr>\n",
              "      <th>0</th>\n",
              "      <td>2016-09-01</td>\n",
              "      <td>6.396560</td>\n",
              "    </tr>\n",
              "    <tr>\n",
              "      <th>1</th>\n",
              "      <td>2016-09-02</td>\n",
              "      <td>5.804086</td>\n",
              "    </tr>\n",
              "    <tr>\n",
              "      <th>2</th>\n",
              "      <td>2016-09-03</td>\n",
              "      <td>4.960248</td>\n",
              "    </tr>\n",
              "    <tr>\n",
              "      <th>3</th>\n",
              "      <td>2016-09-04</td>\n",
              "      <td>5.184571</td>\n",
              "    </tr>\n",
              "    <tr>\n",
              "      <th>4</th>\n",
              "      <td>2016-09-05</td>\n",
              "      <td>5.830676</td>\n",
              "    </tr>\n",
              "  </tbody>\n",
              "</table>\n",
              "</div>"
            ],
            "text/plain": [
              "         date  AVG(speed)\n",
              "0  2016-09-01    6.396560\n",
              "1  2016-09-02    5.804086\n",
              "2  2016-09-03    4.960248\n",
              "3  2016-09-04    5.184571\n",
              "4  2016-09-05    5.830676"
            ]
          },
          "metadata": {
            "tags": []
          },
          "execution_count": 44
        }
      ]
    },
    {
      "cell_type": "code",
      "metadata": {
        "id": "ugpoBzKJ6Op1",
        "colab_type": "code",
        "colab": {
          "base_uri": "https://localhost:8080/",
          "height": 35
        },
        "outputId": "2bab3d4a-2525-4a42-c721-e1509db96a75"
      },
      "source": [
        "%%timeit\n",
        "pysqldf(\"\"\"SELECT date, AVG(speed)\n",
        "FROM wind\n",
        "GROUP BY date\n",
        "\"\"\")\n"
      ],
      "execution_count": 45,
      "outputs": [
        {
          "output_type": "stream",
          "text": [
            "1 loop, best of 3: 201 ms per loop\n"
          ],
          "name": "stdout"
        }
      ]
    }
  ]
}